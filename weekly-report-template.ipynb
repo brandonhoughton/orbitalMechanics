{
 "cells": [
  {
   "cell_type": "markdown",
   "metadata": {},
   "source": [
    "# Weekly Report: 06/07/2019 -- 06/17/2019\n",
    "\n",
    "## Brief: What was done previously\n",
    "Previous work discovered multiple mechanisms to improve the accuracy of prediction. This week we quantify the perfomance of those methods and test them against a standard baseline.\n",
    "\n",
    "## Experiments\n",
    "\n",
    "1. Experiment 1: Prediction accuracy vs increased magnitude of sensor noise (fixed gausian per pixel noise)\n",
    "2. Experiment 2: Prediction accuracy vs increasing number of missing sensor samples (entire patch - randomized drop-out)\n",
    "3. Experiment 3: Prediction accuracy vs increasing number of sensor values (per pixel randomized drop-out)\n",
    "\n",
    "\n",
    "\n",
    "## Summary of Main Results and Discussions\n",
    "TODO\n",
    "\n",
    "\n",
    "### Experiment 1 results and discussion\n",
    "Put main result and conclusions here. Discuss importance/impact in terms of the project goals.\n",
    "\n",
    "### Experiment 2: results and discussion\n",
    "Put main result and conclusions here. Discuss importance/impact in terms of the project goals.\n",
    "\n",
    "\n",
    "## Plan for next effort\n",
    "What will be tested/extended from this week?\n",
    "    \n",
    "\n",
    "    \n"
   ]
  },
  {
   "cell_type": "code",
   "execution_count": 1,
   "metadata": {},
   "outputs": [],
   "source": [
    "# import packages \n",
    "import numpy as np\n",
    "import numpy.linalg as la\n",
    "import matplotlib.pyplot as plt\n",
    "import os"
   ]
  },
  {
   "cell_type": "markdown",
   "metadata": {},
   "source": [
    "# Hypothesis 1\n",
    "\n",
    "Begin testing relationship between predictive accuracy and fixed sensor noise"
   ]
  },
  {
   "cell_type": "markdown",
   "metadata": {},
   "source": [
    "## Generating Fixed Noise\n",
    "\n",
    "Encode the existing data with sample level noise:"
   ]
  },
  {
   "cell_type": "code",
   "execution_count": null,
   "metadata": {
    "pycharm": {
     "is_executing": true
    }
   },
   "outputs": [
    {
     "name": "stdout",
     "text": [
      "C:\\Users\\brandon\\source\\orbitalMechanics\n",
      "WARNING:tensorflow:From C:\\Users\\brandon\\AppData\\Roaming\\Python\\Python36\\site-packages\\tensorflow\\python\\ops\\control_flow_ops.py:423: colocate_with (from tensorflow.python.framework.ops) is deprecated and will be removed in a future version.\nInstructions for updating:\nColocations handled automatically by placer.\n",
      "Input shape: (20, ?, 2500)\nOutput shape: (20, ?, 50, 50)\nEncoder input shape: [20, None, 2500]\nWARNING:tensorflow:From C:\\Users\\brandon\\source\\orbitalMechanics\\src\\predict_turbulence_recurrent.py:16: LSTMCell.__init__ (from tensorflow.python.ops.rnn_cell_impl) is deprecated and will be removed in a future version.\nInstructions for updating:\nThis class is equivalent as tf.keras.layers.LSTMCell, and will be replaced by that in Tensorflow 2.0.\n",
      "WARNING:tensorflow:From C:\\Users\\brandon\\source\\orbitalMechanics\\src\\predict_turbulence_recurrent.py:16: MultiRNNCell.__init__ (from tensorflow.python.ops.rnn_cell_impl) is deprecated and will be removed in a future version.\nInstructions for updating:\nThis class is equivalent as tf.keras.layers.StackedRNNCells, and will be replaced by that in Tensorflow 2.0.\n",
      "WARNING:tensorflow:From C:\\Users\\brandon\\source\\orbitalMechanics\\src\\predict_turbulence_recurrent.py:22: dynamic_rnn (from tensorflow.python.ops.rnn) is deprecated and will be removed in a future version.\nInstructions for updating:\nPlease use `keras.layers.RNN(cell)`, which is equivalent to this API\n",
      "Padded input shape: [20, 64, 2500]\n",
      "[20, 64, 250]\nWARNING:tensorflow:From C:\\Users\\brandon\\source\\orbitalMechanics\\src\\predict_turbulence_recurrent.py:264: dense (from tensorflow.python.layers.core) is deprecated and will be removed in a future version.\nInstructions for updating:\nUse keras.layers.dense instead.\n",
      "WARNING:tensorflow:From C:\\Users\\brandon\\AppData\\Roaming\\Python\\Python36\\site-packages\\tensorflow\\python\\ops\\losses\\losses_impl.py:667: to_float (from tensorflow.python.ops.math_ops) is deprecated and will be removed in a future version.\nInstructions for updating:\nUse tf.cast instead.\n",
      "WARNING:tensorflow:From C:\\Users\\brandon\\AppData\\Roaming\\Python\\Python36\\site-packages\\tensorflow\\python\\ops\\math_ops.py:3066: to_int32 (from tensorflow.python.ops.math_ops) is deprecated and will be removed in a future version.\nInstructions for updating:\nUse tf.cast instead.\n",
      "INFO:tensorflow:Summary name Loss Histogram is illegal; using Loss_Histogram instead.\n",
      "INFO:tensorflow:Summary name Mean Abs Error is illegal; using Mean_Abs_Error instead.\n"
     ],
     "output_type": "stream"
    }
   ],
   "source": [
    "# Test 1 code\n",
    "import numpy as np\n",
    "\n",
    "from src.predict_turbulence_recurrent import train\n",
    "from src.dataLoader.turbulence import Turbulence, RANDOM_SEED, LARGE_DATASET\n",
    "\n",
    "# Begin with 10% noise\n",
    "np.random.seed(RANDOM_SEED)\n",
    "\n",
    "for scale in [0.5, 0.25, 0.1, 0.05, 0.025, 0.01, 0.005, 0.0025, 0.0001]:\n",
    "    noise_data = np.random.normal(size=(360, 279, 1000), scale=0.1)\n",
    "    \n",
    "    loader = Turbulence(pred_length=20, dataset_idx=LARGE_DATASET, input_noise=noise_data, debug=False)\n",
    "    \n",
    "    train(loader=loader, dataset_idx=LARGE_DATASET, num_batches=100000, net_name='lstm_3_cells_20_static_noise_0.1')\n"
   ]
  },
  {
   "cell_type": "markdown",
   "metadata": {},
   "source": [
    "## Test 2\n",
    "\n",
    "Test 2 blah blah ... define variables, etc."
   ]
  },
  {
   "cell_type": "code",
   "execution_count": 1,
   "metadata": {
    "scrolled": false
   },
   "outputs": [],
   "source": [
    "# Test 2 code"
   ]
  },
  {
   "cell_type": "markdown",
   "metadata": {},
   "source": [
    "# Hypothesis 2\n",
    "\n",
    "Sample level dropout"
   ]
  },
  {
   "cell_type": "markdown",
   "metadata": {
    "scrolled": false
   },
   "source": [
    "# Test 1\n",
    "\n",
    "Description of test 1 of hypothesis 2.\n"
   ]
  },
  {
   "cell_type": "code",
   "execution_count": 2,
   "metadata": {},
   "outputs": [],
   "source": [
    "# Test 1, hyp 2 code"
   ]
  }
 ],
 "metadata": {
  "kernelspec": {
   "display_name": "Python 3",
   "language": "python",
   "name": "python3"
  },
  "language_info": {
   "codemirror_mode": {
    "name": "ipython",
    "version": 3
   },
   "file_extension": ".py",
   "mimetype": "text/x-python",
   "name": "python",
   "nbconvert_exporter": "python",
   "pygments_lexer": "ipython3",
   "version": "3.6.7"
  },
  "pycharm": {
   "stem_cell": {
    "cell_type": "raw",
    "source": [],
    "metadata": {
     "collapsed": false
    }
   }
  }
 },
 "nbformat": 4,
 "nbformat_minor": 2
}